{
  "nbformat": 4,
  "nbformat_minor": 0,
  "metadata": {
    "colab": {
      "provenance": [],
      "authorship_tag": "ABX9TyMqKX328kPhNb/LlnZ2QJ3x",
      "include_colab_link": true
    },
    "kernelspec": {
      "name": "python3",
      "display_name": "Python 3"
    },
    "language_info": {
      "name": "python"
    }
  },
  "cells": [
    {
      "cell_type": "markdown",
      "metadata": {
        "id": "view-in-github",
        "colab_type": "text"
      },
      "source": [
        "<a href=\"https://colab.research.google.com/github/Vanaja0811/ML/blob/main/ML_A1_q4.ipynb\" target=\"_parent\"><img src=\"https://colab.research.google.com/assets/colab-badge.svg\" alt=\"Open In Colab\"/></a>"
      ]
    },
    {
      "cell_type": "code",
      "execution_count": 5,
      "metadata": {
        "id": "mDlX_7B8N8Ft",
        "colab": {
          "base_uri": "https://localhost:8080/"
        },
        "outputId": "dd8ed9e5-27a2-4874-851a-a85b32203bde"
      },
      "outputs": [
        {
          "output_type": "stream",
          "name": "stdout",
          "text": [
            "   fixed acidity  volatile acidity  citric acid  residual sugar  chlorides  \\\n",
            "0       0.247788          0.397260         0.00        0.068493   0.106845   \n",
            "1       0.283186          0.520548         0.00        0.116438   0.143573   \n",
            "2       0.283186          0.438356         0.04        0.095890   0.133556   \n",
            "3       0.584071          0.109589         0.56        0.068493   0.105175   \n",
            "4       0.247788          0.397260         0.00        0.068493   0.106845   \n",
            "\n",
            "   free sulfur dioxide  total sulfur dioxide   density        pH  sulphates  \\\n",
            "0             0.149254              0.098940  0.567548  0.606299   0.137725   \n",
            "1             0.358209              0.215548  0.494126  0.362205   0.209581   \n",
            "2             0.208955              0.169611  0.508811  0.409449   0.191617   \n",
            "3             0.238806              0.190813  0.582232  0.330709   0.149701   \n",
            "4             0.149254              0.098940  0.567548  0.606299   0.137725   \n",
            "\n",
            "    alcohol        Id  quality  \n",
            "0  0.153846  0.000000        0  \n",
            "1  0.215385  0.000626        0  \n",
            "2  0.215385  0.001252        0  \n",
            "3  0.215385  0.001879        0  \n",
            "4  0.153846  0.002505        0  \n"
          ]
        }
      ],
      "source": [
        "import pandas as pd\n",
        "from sklearn.preprocessing import MinMaxScaler\n",
        "\n",
        "# Load the Wine Quality Data Set (assuming it's a CSV file)\n",
        "# You can replace 'winequality.csv' with your actual file path\n",
        "data = pd.read_csv('winequality_normalized.csv')\n",
        "\n",
        "# Convert 'quality' attribute to binary (0 or 1)\n",
        "data['quality'] = data['quality'].apply(lambda x: 0 if x <= 6 else 1)\n",
        "\n",
        "# Separate features from the target\n",
        "features = data.drop(columns=['quality'])\n",
        "target = data['quality']\n",
        "\n",
        "# Apply Min-Max Scaling to all features\n",
        "scaler = MinMaxScaler()\n",
        "features_normalized = scaler.fit_transform(features)\n",
        "\n",
        "# Create a new DataFrame with normalized features\n",
        "normalized_data = pd.DataFrame(features_normalized, columns=features.columns)\n",
        "normalized_data['quality'] = target\n",
        "\n",
        "# Save or display the normalized dataset\n",
        "print(normalized_data.head())\n",
        "\n",
        "# Optionally save the normalized dataset to a new CSV file\n",
        "normalized_data.to_csv('winequality_normalized.csv', index=False)\n"
      ]
    }
  ]
}